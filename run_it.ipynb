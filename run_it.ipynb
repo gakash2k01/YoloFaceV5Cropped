{
 "cells": [
  {
   "cell_type": "code",
   "execution_count": 1,
   "metadata": {},
   "outputs": [
    {
     "name": "stdout",
     "output_type": "stream",
     "text": [
      "c:\\Users\\91735\\Documents\\code_work\\yoloface\\yolov5-face\n"
     ]
    }
   ],
   "source": [
    "%matplotlib inline \n",
    "import os \n",
    "if os.path.basename(os.getcwd()) == 'Bosch':\n",
    "    pass\n",
    "else:\n",
    "    ROOT_DIR = os.getcwd()\n",
    "    os.path.join(ROOT_DIR)\n",
    "print(ROOT_DIR)"
   ]
  },
  {
   "cell_type": "code",
   "execution_count": 2,
   "metadata": {
    "scrolled": false
   },
   "outputs": [],
   "source": [
    "%%capture\n",
    "%cd Real-ESRGAN\n",
    "!pip install basicsr\n",
    "!pip install facexlib\n",
    "!pip install gfpgan\n",
    "!pip install -r requirements.txt\n",
    "!python setup.py develop"
   ]
  },
  {
   "cell_type": "markdown",
   "metadata": {},
   "source": [
    "### Should be in Bosch Directory"
   ]
  },
  {
   "cell_type": "code",
   "execution_count": 3,
   "metadata": {
    "scrolled": true
   },
   "outputs": [
    {
     "name": "stdout",
     "output_type": "stream",
     "text": [
      "[WinError 123] The filename, directory name, or volume label syntax is incorrect: \"f'c:\\\\Users\\\\91735\\\\Documents\\\\code_work\\\\yoloface\\\\yolov5-face/yolov5-face/'\"\n",
      "c:\\Users\\91735\\Documents\\code_work\\yoloface\\yolov5-face\n"
     ]
    }
   ],
   "source": [
    "%cd {ROOT_DIR}"
   ]
  },
  {
   "cell_type": "code",
   "execution_count": 4,
   "metadata": {},
   "outputs": [
    {
     "name": "stderr",
     "output_type": "stream",
     "text": [
      "c:\\Users\\91735\\.conda\\envs\\ml\\lib\\site-packages\\tqdm\\auto.py:22: TqdmWarning: IProgress not found. Please update jupyter and ipywidgets. See https://ipywidgets.readthedocs.io/en/stable/user_install.html\n",
      "  from .autonotebook import tqdm as notebook_tqdm\n"
     ]
    },
    {
     "name": "stdout",
     "output_type": "stream",
     "text": [
      "c:\\Users\\91735\\Documents\\code_work\\yoloface\\yolov5-face\\data\\images\n",
      "################################################################################\n",
      "WORKING ON IMAGE:  Aman_Harsh.jpeg\n",
      "[WinError 2] The system cannot find the file specified: 'c:\\\\Users\\\\91735\\\\Documents\\\\code_work\\\\yoloface\\\\yolov5-face/yolov5-face/'\n",
      "c:\\Users\\91735\\Documents\\code_work\\yoloface\\yolov5-face\n",
      "Namespace(weights=['weights/face5.pt'], image='c:\\\\Users\\\\91735\\\\Documents\\\\code_work\\\\yoloface\\\\yolov5-face\\\\data\\\\images/Aman_Harsh.jpeg', img_size=640)\n",
      "cpu\n",
      "Fusing layers... \n",
      "Reached here\n",
      "NUMBER OF FACES=  1\n",
      "Shape is: 3\n",
      "Path is  c:\\Users\\91735\\Documents\\code_work\\yoloface\\yolov5-face/data/temp/faces/Aman_Harsh_1.jpg\n",
      "c:\\Users\\91735\\Documents\\code_work\\yoloface\\yolov5-face\n",
      "Shape is: 4\n",
      "Path is  c:\\Users\\91735\\Documents\\code_work\\yoloface\\yolov5-face/data/temp/faces/Aman_Harsh_2.jpg\n",
      "################################################################################\n",
      "WORKING ON IMAGE:  Amarsh.jpeg\n",
      "[WinError 2] The system cannot find the file specified: 'c:\\\\Users\\\\91735\\\\Documents\\\\code_work\\\\yoloface\\\\yolov5-face/yolov5-face/'\n",
      "c:\\Users\\91735\\Documents\\code_work\\yoloface\\yolov5-face\n"
     ]
    },
    {
     "name": "stderr",
     "output_type": "stream",
     "text": [
      "Traceback (most recent call last):\n",
      "  File \"c:\\Users\\91735\\Documents\\code_work\\yoloface\\yolov5-face\\detect.py\", line 207, in <module>\n",
      "    detect_one(model, opt.image, device)\n",
      "  File \"c:\\Users\\91735\\Documents\\code_work\\yoloface\\yolov5-face\\detect.py\", line 186, in detect_one\n",
      "    save_image(save_path,im_ind, xywh,img)\n",
      "  File \"c:\\Users\\91735\\Documents\\code_work\\yoloface\\yolov5-face\\detect.py\", line 104, in save_image\n",
      "    cv2.imwrite(put_here,img)\n",
      "cv2.error: OpenCV(4.6.0) :-1: error: (-5:Bad argument) in function 'imwrite'\n",
      "> Overload resolution failed:\n",
      ">  - img is not a numpy array, neither a scalar\n",
      ">  - Expected Ptr<cv::UMat> for argument 'img'\n",
      "\n"
     ]
    },
    {
     "name": "stdout",
     "output_type": "stream",
     "text": [
      "Namespace(weights=['weights/face5.pt'], image='c:\\\\Users\\\\91735\\\\Documents\\\\code_work\\\\yoloface\\\\yolov5-face\\\\data\\\\images/Amarsh.jpeg', img_size=640)\n",
      "cpu\n",
      "Fusing layers... \n",
      "Reached here\n",
      "NUMBER OF FACES=  1\n",
      "Shape is: 3\n",
      "Path is  c:\\Users\\91735\\Documents\\code_work\\yoloface\\yolov5-face/data/temp/faces/Amarsh_1.jpg\n",
      "c:\\Users\\91735\\Documents\\code_work\\yoloface\\yolov5-face\n",
      "Shape is: 4\n",
      "Path is  c:\\Users\\91735\\Documents\\code_work\\yoloface\\yolov5-face/data/temp/faces/Amarsh_2.jpg\n",
      "################################################################################\n",
      "WORKING ON IMAGE:  test.jpeg\n",
      "[WinError 2] The system cannot find the file specified: 'c:\\\\Users\\\\91735\\\\Documents\\\\code_work\\\\yoloface\\\\yolov5-face/yolov5-face/'\n",
      "c:\\Users\\91735\\Documents\\code_work\\yoloface\\yolov5-face\n"
     ]
    },
    {
     "name": "stderr",
     "output_type": "stream",
     "text": [
      "Traceback (most recent call last):\n",
      "  File \"c:\\Users\\91735\\Documents\\code_work\\yoloface\\yolov5-face\\detect.py\", line 207, in <module>\n",
      "    detect_one(model, opt.image, device)\n",
      "  File \"c:\\Users\\91735\\Documents\\code_work\\yoloface\\yolov5-face\\detect.py\", line 186, in detect_one\n",
      "    save_image(save_path,im_ind, xywh,img)\n",
      "  File \"c:\\Users\\91735\\Documents\\code_work\\yoloface\\yolov5-face\\detect.py\", line 104, in save_image\n",
      "    cv2.imwrite(put_here,img)\n",
      "cv2.error: OpenCV(4.6.0) :-1: error: (-5:Bad argument) in function 'imwrite'\n",
      "> Overload resolution failed:\n",
      ">  - img is not a numpy array, neither a scalar\n",
      ">  - Expected Ptr<cv::UMat> for argument 'img'\n",
      "\n"
     ]
    },
    {
     "name": "stdout",
     "output_type": "stream",
     "text": [
      "Namespace(weights=['weights/face5.pt'], image='c:\\\\Users\\\\91735\\\\Documents\\\\code_work\\\\yoloface\\\\yolov5-face\\\\data\\\\images/test.jpeg', img_size=640)\n",
      "cpu\n",
      "Fusing layers... \n",
      "Reached here\n",
      "NUMBER OF FACES=  1\n",
      "Shape is: 3\n",
      "Path is  c:\\Users\\91735\\Documents\\code_work\\yoloface\\yolov5-face/data/temp/faces/test_1.jpg\n",
      "c:\\Users\\91735\\Documents\\code_work\\yoloface\\yolov5-face\n",
      "Shape is: 4\n",
      "Path is  c:\\Users\\91735\\Documents\\code_work\\yoloface\\yolov5-face/data/temp/faces/test_2.jpg\n",
      "################################################################################\n",
      "WORKING ON IMAGE:  test2.jpg\n",
      "[WinError 2] The system cannot find the file specified: 'c:\\\\Users\\\\91735\\\\Documents\\\\code_work\\\\yoloface\\\\yolov5-face/yolov5-face/'\n",
      "c:\\Users\\91735\\Documents\\code_work\\yoloface\\yolov5-face\n"
     ]
    },
    {
     "name": "stderr",
     "output_type": "stream",
     "text": [
      "Traceback (most recent call last):\n",
      "  File \"c:\\Users\\91735\\Documents\\code_work\\yoloface\\yolov5-face\\detect.py\", line 207, in <module>\n",
      "    detect_one(model, opt.image, device)\n",
      "  File \"c:\\Users\\91735\\Documents\\code_work\\yoloface\\yolov5-face\\detect.py\", line 186, in detect_one\n",
      "    save_image(save_path,im_ind, xywh,img)\n",
      "  File \"c:\\Users\\91735\\Documents\\code_work\\yoloface\\yolov5-face\\detect.py\", line 104, in save_image\n",
      "    cv2.imwrite(put_here,img)\n",
      "cv2.error: OpenCV(4.6.0) :-1: error: (-5:Bad argument) in function 'imwrite'\n",
      "> Overload resolution failed:\n",
      ">  - img is not a numpy array, neither a scalar\n",
      ">  - Expected Ptr<cv::UMat> for argument 'img'\n",
      "\n"
     ]
    },
    {
     "name": "stdout",
     "output_type": "stream",
     "text": [
      "Namespace(weights=['weights/face5.pt'], image='c:\\\\Users\\\\91735\\\\Documents\\\\code_work\\\\yoloface\\\\yolov5-face\\\\data\\\\images/test2.jpg', img_size=640)\n",
      "cpu\n",
      "Fusing layers... \n",
      "Reached here\n",
      "NUMBER OF FACES=  2\n",
      "Shape is: 3\n",
      "Path is  c:\\Users\\91735\\Documents\\code_work\\yoloface\\yolov5-face/data/temp/faces/test2_1.jpg\n",
      "c:\\Users\\91735\\Documents\\code_work\\yoloface\\yolov5-face\n",
      "Shape is: 4\n",
      "Path is  c:\\Users\\91735\\Documents\\code_work\\yoloface\\yolov5-face/data/temp/faces/test2_2.jpg\n",
      "################################################################################\n",
      "WORKING ON IMAGE:  test3.jpg\n",
      "[WinError 2] The system cannot find the file specified: 'c:\\\\Users\\\\91735\\\\Documents\\\\code_work\\\\yoloface\\\\yolov5-face/yolov5-face/'\n",
      "c:\\Users\\91735\\Documents\\code_work\\yoloface\\yolov5-face\n"
     ]
    },
    {
     "name": "stderr",
     "output_type": "stream",
     "text": [
      "Traceback (most recent call last):\n",
      "  File \"c:\\Users\\91735\\Documents\\code_work\\yoloface\\yolov5-face\\detect.py\", line 207, in <module>\n",
      "    detect_one(model, opt.image, device)\n",
      "  File \"c:\\Users\\91735\\Documents\\code_work\\yoloface\\yolov5-face\\detect.py\", line 186, in detect_one\n",
      "    save_image(save_path,im_ind, xywh,img)\n",
      "  File \"c:\\Users\\91735\\Documents\\code_work\\yoloface\\yolov5-face\\detect.py\", line 104, in save_image\n",
      "    cv2.imwrite(put_here,img)\n",
      "cv2.error: OpenCV(4.6.0) :-1: error: (-5:Bad argument) in function 'imwrite'\n",
      "> Overload resolution failed:\n",
      ">  - img is not a numpy array, neither a scalar\n",
      ">  - Expected Ptr<cv::UMat> for argument 'img'\n",
      "\n"
     ]
    },
    {
     "name": "stdout",
     "output_type": "stream",
     "text": [
      "Namespace(weights=['weights/face5.pt'], image='c:\\\\Users\\\\91735\\\\Documents\\\\code_work\\\\yoloface\\\\yolov5-face\\\\data\\\\images/test3.jpg', img_size=640)\n",
      "cpu\n",
      "Fusing layers... \n",
      "Reached here\n",
      "NUMBER OF FACES=  1\n",
      "Shape is: 3\n",
      "Path is  c:\\Users\\91735\\Documents\\code_work\\yoloface\\yolov5-face/data/temp/faces/test3_1.jpg\n",
      "c:\\Users\\91735\\Documents\\code_work\\yoloface\\yolov5-face\n",
      "Shape is: 4\n",
      "Path is  c:\\Users\\91735\\Documents\\code_work\\yoloface\\yolov5-face/data/temp/faces/test3_2.jpg\n"
     ]
    },
    {
     "name": "stderr",
     "output_type": "stream",
     "text": [
      "Traceback (most recent call last):\n",
      "  File \"c:\\Users\\91735\\Documents\\code_work\\yoloface\\yolov5-face\\detect.py\", line 207, in <module>\n",
      "    detect_one(model, opt.image, device)\n",
      "  File \"c:\\Users\\91735\\Documents\\code_work\\yoloface\\yolov5-face\\detect.py\", line 186, in detect_one\n",
      "    save_image(save_path,im_ind, xywh,img)\n",
      "  File \"c:\\Users\\91735\\Documents\\code_work\\yoloface\\yolov5-face\\detect.py\", line 104, in save_image\n",
      "    cv2.imwrite(put_here,img)\n",
      "cv2.error: OpenCV(4.6.0) :-1: error: (-5:Bad argument) in function 'imwrite'\n",
      "> Overload resolution failed:\n",
      ">  - img is not a numpy array, neither a scalar\n",
      ">  - Expected Ptr<cv::UMat> for argument 'img'\n",
      "\n"
     ]
    }
   ],
   "source": [
    "import os\n",
    "import torch\n",
    "import cv2\n",
    "# import json\n",
    "import numpy as np\n",
    "import pandas as pd\n",
    "import time\n",
    "import torchvision.transforms as transforms\n",
    "import matplotlib.pyplot as plt\n",
    "\n",
    "from torch import nn\n",
    "\n",
    "path_to_file=ROOT_DIR + '/output/bbox_file.txt'\n",
    "# !touch {path_to_file}\n",
    "big_image_list=[]\n",
    "big_face_id=[]\n",
    "big_bbox_list=[]\n",
    "big_age_list=[]\n",
    "big_gender_list=[]\n",
    "\n",
    "device = 'cuda' if torch.cuda.is_available() else 'cpu'\n",
    "\n",
    "image_size=128\n",
    "test_transforms = transforms.Compose([transforms.ToPILImage(),\n",
    "                                     transforms.Resize((image_size,image_size)),\n",
    "                                     transforms.ToTensor(),\n",
    "                                     transforms.Normalize([0.5,0.5,0.5],\n",
    "                                                          [0.5,0.5,0.5])])\n",
    "\n",
    "\n",
    "##loading yolo weights\n",
    "#options available : 5l-face.pt,5m-face,5s-face.pt\n",
    "weight='face5.pt'\n",
    "\n",
    "root_data_path=ROOT_DIR + '\\\\data'\n",
    "dataset_path=root_data_path+'\\\\images' ## set path of to-be-tested images\n",
    "temp_storage=root_data_path+'\\\\temp'\n",
    "cropped_faces_path=temp_storage+'\\\\faces'\n",
    "print(dataset_path)\n",
    "_,_,target_image_files=next(os.walk(dataset_path))\n",
    "\n",
    "#create a text file to write bboxes\n",
    "for image_file in target_image_files:#takes 1 image\n",
    "    # os.mkdir(cropped_faces_path)\n",
    "    print(\"################################################################################\")\n",
    "    print(\"WORKING ON IMAGE: \" ,image_file)\n",
    "    original_image_file_path=dataset_path+'/'+image_file\n",
    "    before_image=cv2.imread(original_image_file_path)\n",
    "    before_image = cv2.cvtColor(before_image, cv2.COLOR_BGR2RGB)\n",
    "    # plt.imshow(before_image)\n",
    "    # break\n",
    "\n",
    "  # face detector\n",
    "    %cd {ROOT_DIR}/yolov5-face/\n",
    "    !python detect.py --weights weights/{weight} --image {original_image_file_path} \n",
    "\n",
    "    # #iterate over each cropped face\n",
    "    # print(cropped_faces_path)\n",
    "    # _,_,cropped_faces =next(os.walk(cropped_faces_path))\n",
    "    # face_id=0\n",
    "    # for cropped_face in cropped_faces:\n",
    "    #     a=time.time()\n",
    "    #     face_path=cropped_faces_path+'\\\\'+cropped_face\n",
    "    #     face=cv2.imread(face_path)\n",
    "    #     ## pass on age-gender model\n",
    "    #     face = test_transforms(face)\n",
    "    #     face = face.unsqueeze(0)\n",
    "\n",
    "    # !rm -r {cropped_faces_path}\n",
    "  # break"
   ]
  },
  {
   "cell_type": "code",
   "execution_count": null,
   "metadata": {},
   "outputs": [],
   "source": []
  },
  {
   "cell_type": "code",
   "execution_count": null,
   "metadata": {},
   "outputs": [],
   "source": []
  }
 ],
 "metadata": {
  "kernelspec": {
   "display_name": "Python 3.9.13 ('ml')",
   "language": "python",
   "name": "python3"
  },
  "language_info": {
   "codemirror_mode": {
    "name": "ipython",
    "version": 3
   },
   "file_extension": ".py",
   "mimetype": "text/x-python",
   "name": "python",
   "nbconvert_exporter": "python",
   "pygments_lexer": "ipython3",
   "version": "3.9.13"
  },
  "vscode": {
   "interpreter": {
    "hash": "f3152a0b7a0706136187dd22b06cf45b99442763ed1aeef076fec4f04b1b799d"
   }
  }
 },
 "nbformat": 4,
 "nbformat_minor": 2
}
